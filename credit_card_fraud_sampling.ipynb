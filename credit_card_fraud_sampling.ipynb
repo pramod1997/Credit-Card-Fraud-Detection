{
  "nbformat": 4,
  "nbformat_minor": 0,
  "metadata": {
    "colab": {
      "name": "credit-card_fraud_sampling.ipynb",
      "version": "0.3.2",
      "provenance": [],
      "collapsed_sections": []
    },
    "kernelspec": {
      "name": "python3",
      "display_name": "Python 3"
    },
    "accelerator": "GPU"
  },
  "cells": [
    {
      "cell_type": "markdown",
      "metadata": {
        "id": "fXQZMfC68MCa",
        "colab_type": "text"
      },
      "source": [
        "The notebook explores following options\n",
        "\n",
        "1.Under Sampling , Over Sampling\n",
        "\n",
        "2.SMOTE , ADASYN\n",
        "\n",
        "3.Setting class_weight parameter\n"
      ]
    },
    {
      "cell_type": "code",
      "metadata": {
        "id": "PH50NiihLF-A",
        "colab_type": "code",
        "colab": {}
      },
      "source": [
        "from google.colab import drive\n",
        "drive.mount('/content/drive')"
      ],
      "execution_count": 0,
      "outputs": []
    },
    {
      "cell_type": "code",
      "metadata": {
        "id": "7AWcQPG8UYom",
        "colab_type": "code",
        "colab": {}
      },
      "source": [
        "import pandas as pd\n",
        "import numpy as np\n",
        "import seaborn as sns\n",
        "import matplotlib.pyplot as plt\n",
        "from sklearn.model_selection import GridSearchCV\n",
        "\n",
        "## metrics \n",
        "from sklearn.metrics import confusion_matrix , classification_report\n",
        "\n",
        "### classifiers\n",
        "from sklearn.linear_model import LogisticRegression\n",
        "import xgboost as xgb\n"
      ],
      "execution_count": 0,
      "outputs": []
    },
    {
      "cell_type": "code",
      "metadata": {
        "id": "APuoIibTUeCk",
        "colab_type": "code",
        "outputId": "8c3c3bba-a7b9-485e-9fae-aa94310aa340",
        "colab": {
          "base_uri": "https://localhost:8080/",
          "height": 226
        }
      },
      "source": [
        "df = pd.read_csv(\"/content/drive/My Drive/credit_card_dataset/creditcardfraud.zip\")\n",
        "df.head()"
      ],
      "execution_count": 0,
      "outputs": [
        {
          "output_type": "execute_result",
          "data": {
            "text/html": [
              "<div>\n",
              "<style scoped>\n",
              "    .dataframe tbody tr th:only-of-type {\n",
              "        vertical-align: middle;\n",
              "    }\n",
              "\n",
              "    .dataframe tbody tr th {\n",
              "        vertical-align: top;\n",
              "    }\n",
              "\n",
              "    .dataframe thead th {\n",
              "        text-align: right;\n",
              "    }\n",
              "</style>\n",
              "<table border=\"1\" class=\"dataframe\">\n",
              "  <thead>\n",
              "    <tr style=\"text-align: right;\">\n",
              "      <th></th>\n",
              "      <th>Time</th>\n",
              "      <th>V1</th>\n",
              "      <th>V2</th>\n",
              "      <th>V3</th>\n",
              "      <th>V4</th>\n",
              "      <th>V5</th>\n",
              "      <th>V6</th>\n",
              "      <th>V7</th>\n",
              "      <th>V8</th>\n",
              "      <th>V9</th>\n",
              "      <th>V10</th>\n",
              "      <th>V11</th>\n",
              "      <th>V12</th>\n",
              "      <th>V13</th>\n",
              "      <th>V14</th>\n",
              "      <th>V15</th>\n",
              "      <th>V16</th>\n",
              "      <th>V17</th>\n",
              "      <th>V18</th>\n",
              "      <th>V19</th>\n",
              "      <th>V20</th>\n",
              "      <th>V21</th>\n",
              "      <th>V22</th>\n",
              "      <th>V23</th>\n",
              "      <th>V24</th>\n",
              "      <th>V25</th>\n",
              "      <th>V26</th>\n",
              "      <th>V27</th>\n",
              "      <th>V28</th>\n",
              "      <th>Amount</th>\n",
              "      <th>Class</th>\n",
              "    </tr>\n",
              "  </thead>\n",
              "  <tbody>\n",
              "    <tr>\n",
              "      <th>0</th>\n",
              "      <td>0.0</td>\n",
              "      <td>-1.359807</td>\n",
              "      <td>-0.072781</td>\n",
              "      <td>2.536347</td>\n",
              "      <td>1.378155</td>\n",
              "      <td>-0.338321</td>\n",
              "      <td>0.462388</td>\n",
              "      <td>0.239599</td>\n",
              "      <td>0.098698</td>\n",
              "      <td>0.363787</td>\n",
              "      <td>0.090794</td>\n",
              "      <td>-0.551600</td>\n",
              "      <td>-0.617801</td>\n",
              "      <td>-0.991390</td>\n",
              "      <td>-0.311169</td>\n",
              "      <td>1.468177</td>\n",
              "      <td>-0.470401</td>\n",
              "      <td>0.207971</td>\n",
              "      <td>0.025791</td>\n",
              "      <td>0.403993</td>\n",
              "      <td>0.251412</td>\n",
              "      <td>-0.018307</td>\n",
              "      <td>0.277838</td>\n",
              "      <td>-0.110474</td>\n",
              "      <td>0.066928</td>\n",
              "      <td>0.128539</td>\n",
              "      <td>-0.189115</td>\n",
              "      <td>0.133558</td>\n",
              "      <td>-0.021053</td>\n",
              "      <td>149.62</td>\n",
              "      <td>0</td>\n",
              "    </tr>\n",
              "    <tr>\n",
              "      <th>1</th>\n",
              "      <td>0.0</td>\n",
              "      <td>1.191857</td>\n",
              "      <td>0.266151</td>\n",
              "      <td>0.166480</td>\n",
              "      <td>0.448154</td>\n",
              "      <td>0.060018</td>\n",
              "      <td>-0.082361</td>\n",
              "      <td>-0.078803</td>\n",
              "      <td>0.085102</td>\n",
              "      <td>-0.255425</td>\n",
              "      <td>-0.166974</td>\n",
              "      <td>1.612727</td>\n",
              "      <td>1.065235</td>\n",
              "      <td>0.489095</td>\n",
              "      <td>-0.143772</td>\n",
              "      <td>0.635558</td>\n",
              "      <td>0.463917</td>\n",
              "      <td>-0.114805</td>\n",
              "      <td>-0.183361</td>\n",
              "      <td>-0.145783</td>\n",
              "      <td>-0.069083</td>\n",
              "      <td>-0.225775</td>\n",
              "      <td>-0.638672</td>\n",
              "      <td>0.101288</td>\n",
              "      <td>-0.339846</td>\n",
              "      <td>0.167170</td>\n",
              "      <td>0.125895</td>\n",
              "      <td>-0.008983</td>\n",
              "      <td>0.014724</td>\n",
              "      <td>2.69</td>\n",
              "      <td>0</td>\n",
              "    </tr>\n",
              "    <tr>\n",
              "      <th>2</th>\n",
              "      <td>1.0</td>\n",
              "      <td>-1.358354</td>\n",
              "      <td>-1.340163</td>\n",
              "      <td>1.773209</td>\n",
              "      <td>0.379780</td>\n",
              "      <td>-0.503198</td>\n",
              "      <td>1.800499</td>\n",
              "      <td>0.791461</td>\n",
              "      <td>0.247676</td>\n",
              "      <td>-1.514654</td>\n",
              "      <td>0.207643</td>\n",
              "      <td>0.624501</td>\n",
              "      <td>0.066084</td>\n",
              "      <td>0.717293</td>\n",
              "      <td>-0.165946</td>\n",
              "      <td>2.345865</td>\n",
              "      <td>-2.890083</td>\n",
              "      <td>1.109969</td>\n",
              "      <td>-0.121359</td>\n",
              "      <td>-2.261857</td>\n",
              "      <td>0.524980</td>\n",
              "      <td>0.247998</td>\n",
              "      <td>0.771679</td>\n",
              "      <td>0.909412</td>\n",
              "      <td>-0.689281</td>\n",
              "      <td>-0.327642</td>\n",
              "      <td>-0.139097</td>\n",
              "      <td>-0.055353</td>\n",
              "      <td>-0.059752</td>\n",
              "      <td>378.66</td>\n",
              "      <td>0</td>\n",
              "    </tr>\n",
              "    <tr>\n",
              "      <th>3</th>\n",
              "      <td>1.0</td>\n",
              "      <td>-0.966272</td>\n",
              "      <td>-0.185226</td>\n",
              "      <td>1.792993</td>\n",
              "      <td>-0.863291</td>\n",
              "      <td>-0.010309</td>\n",
              "      <td>1.247203</td>\n",
              "      <td>0.237609</td>\n",
              "      <td>0.377436</td>\n",
              "      <td>-1.387024</td>\n",
              "      <td>-0.054952</td>\n",
              "      <td>-0.226487</td>\n",
              "      <td>0.178228</td>\n",
              "      <td>0.507757</td>\n",
              "      <td>-0.287924</td>\n",
              "      <td>-0.631418</td>\n",
              "      <td>-1.059647</td>\n",
              "      <td>-0.684093</td>\n",
              "      <td>1.965775</td>\n",
              "      <td>-1.232622</td>\n",
              "      <td>-0.208038</td>\n",
              "      <td>-0.108300</td>\n",
              "      <td>0.005274</td>\n",
              "      <td>-0.190321</td>\n",
              "      <td>-1.175575</td>\n",
              "      <td>0.647376</td>\n",
              "      <td>-0.221929</td>\n",
              "      <td>0.062723</td>\n",
              "      <td>0.061458</td>\n",
              "      <td>123.50</td>\n",
              "      <td>0</td>\n",
              "    </tr>\n",
              "    <tr>\n",
              "      <th>4</th>\n",
              "      <td>2.0</td>\n",
              "      <td>-1.158233</td>\n",
              "      <td>0.877737</td>\n",
              "      <td>1.548718</td>\n",
              "      <td>0.403034</td>\n",
              "      <td>-0.407193</td>\n",
              "      <td>0.095921</td>\n",
              "      <td>0.592941</td>\n",
              "      <td>-0.270533</td>\n",
              "      <td>0.817739</td>\n",
              "      <td>0.753074</td>\n",
              "      <td>-0.822843</td>\n",
              "      <td>0.538196</td>\n",
              "      <td>1.345852</td>\n",
              "      <td>-1.119670</td>\n",
              "      <td>0.175121</td>\n",
              "      <td>-0.451449</td>\n",
              "      <td>-0.237033</td>\n",
              "      <td>-0.038195</td>\n",
              "      <td>0.803487</td>\n",
              "      <td>0.408542</td>\n",
              "      <td>-0.009431</td>\n",
              "      <td>0.798278</td>\n",
              "      <td>-0.137458</td>\n",
              "      <td>0.141267</td>\n",
              "      <td>-0.206010</td>\n",
              "      <td>0.502292</td>\n",
              "      <td>0.219422</td>\n",
              "      <td>0.215153</td>\n",
              "      <td>69.99</td>\n",
              "      <td>0</td>\n",
              "    </tr>\n",
              "  </tbody>\n",
              "</table>\n",
              "</div>"
            ],
            "text/plain": [
              "   Time        V1        V2        V3  ...       V27       V28  Amount  Class\n",
              "0   0.0 -1.359807 -0.072781  2.536347  ...  0.133558 -0.021053  149.62      0\n",
              "1   0.0  1.191857  0.266151  0.166480  ... -0.008983  0.014724    2.69      0\n",
              "2   1.0 -1.358354 -1.340163  1.773209  ... -0.055353 -0.059752  378.66      0\n",
              "3   1.0 -0.966272 -0.185226  1.792993  ...  0.062723  0.061458  123.50      0\n",
              "4   2.0 -1.158233  0.877737  1.548718  ...  0.219422  0.215153   69.99      0\n",
              "\n",
              "[5 rows x 31 columns]"
            ]
          },
          "metadata": {
            "tags": []
          },
          "execution_count": 3
        }
      ]
    },
    {
      "cell_type": "code",
      "metadata": {
        "id": "8Cqh5h4MUpZJ",
        "colab_type": "code",
        "outputId": "42e15953-b2d2-4d3e-82b9-2fbd001b93c1",
        "colab": {
          "base_uri": "https://localhost:8080/",
          "height": 52
        }
      },
      "source": [
        "print(\"% of frauds happening \" ,len(df.loc[df['Class']==1])/len(df))\n",
        "print(\"no of frauds happening \" ,len(df.loc[df['Class']==1]))"
      ],
      "execution_count": 0,
      "outputs": [
        {
          "output_type": "stream",
          "text": [
            "% of frauds happening  0.001727485630620034\n",
            "no of frauds happening  492\n"
          ],
          "name": "stdout"
        }
      ]
    },
    {
      "cell_type": "code",
      "metadata": {
        "id": "1VqHfgaGZBKz",
        "colab_type": "code",
        "colab": {}
      },
      "source": [
        "from sklearn.preprocessing import MinMaxScaler\n",
        "scaler = MinMaxScaler()\n",
        "df[['Time','Amount']] = scaler.fit_transform(df[['Time','Amount']])"
      ],
      "execution_count": 0,
      "outputs": []
    },
    {
      "cell_type": "markdown",
      "metadata": {
        "id": "rsfEGAUj80uS",
        "colab_type": "text"
      },
      "source": [
        "Feature Engineering has been explored in different Notebook."
      ]
    },
    {
      "cell_type": "code",
      "metadata": {
        "id": "iLmFkIASYNeE",
        "colab_type": "code",
        "colab": {}
      },
      "source": [
        "\n",
        "Y = df['Class']\n",
        "df.drop('Class',inplace=True , axis =1)\n",
        "X = df[df.columns]"
      ],
      "execution_count": 0,
      "outputs": []
    },
    {
      "cell_type": "markdown",
      "metadata": {
        "id": "SnB-vvd289lu",
        "colab_type": "text"
      },
      "source": [
        "Split it in test and train"
      ]
    },
    {
      "cell_type": "code",
      "metadata": {
        "id": "tIBKsuu7bTQo",
        "colab_type": "code",
        "colab": {}
      },
      "source": [
        "\n",
        "from sklearn.model_selection import train_test_split\n",
        "X_train , X_test , Y_train , Y_test = train_test_split(X,Y,test_size = 0.2, shuffle = True , random_state = 42)"
      ],
      "execution_count": 0,
      "outputs": []
    },
    {
      "cell_type": "code",
      "metadata": {
        "id": "ImWvltiZULxD",
        "colab_type": "code",
        "outputId": "f9f47fd3-89ec-441a-f36e-7f185ae8262e",
        "colab": {
          "base_uri": "https://localhost:8080/",
          "height": 34
        }
      },
      "source": [
        "X_train.shape , X_test.shape , Y_train.shape , Y_test.shape"
      ],
      "execution_count": 0,
      "outputs": [
        {
          "output_type": "execute_result",
          "data": {
            "text/plain": [
              "((227845, 30), (56962, 30), (227845,), (56962,))"
            ]
          },
          "metadata": {
            "tags": []
          },
          "execution_count": 15
        }
      ]
    },
    {
      "cell_type": "markdown",
      "metadata": {
        "id": "g1re9R219EAD",
        "colab_type": "text"
      },
      "source": [
        "All the techniques used are present in imblearn library. "
      ]
    },
    {
      "cell_type": "markdown",
      "metadata": {
        "id": "fgC7Im1k9Rva",
        "colab_type": "text"
      },
      "source": [
        "Random Undersampling of Majority Class"
      ]
    },
    {
      "cell_type": "code",
      "metadata": {
        "id": "mMzj904aUjas",
        "colab_type": "code",
        "colab": {}
      },
      "source": [
        "\n",
        "from imblearn.under_sampling import RandomUnderSampler\n",
        "\n",
        "rus = RandomUnderSampler(random_state = 42)\n",
        "\n",
        "X_under , Y_under = rus.fit_sample(X,Y)\n"
      ],
      "execution_count": 0,
      "outputs": []
    },
    {
      "cell_type": "code",
      "metadata": {
        "id": "zlvmyqidV3W8",
        "colab_type": "code",
        "outputId": "43233698-ef7f-4632-fbcb-c7bc73487945",
        "colab": {
          "base_uri": "https://localhost:8080/",
          "height": 34
        }
      },
      "source": [
        "X_under.shape , Y_under.shape"
      ],
      "execution_count": 0,
      "outputs": [
        {
          "output_type": "execute_result",
          "data": {
            "text/plain": [
              "((984, 30), (984,))"
            ]
          },
          "metadata": {
            "tags": []
          },
          "execution_count": 9
        }
      ]
    },
    {
      "cell_type": "code",
      "metadata": {
        "id": "J642th0cWYOh",
        "colab_type": "code",
        "outputId": "3ddbb9a3-d19d-4ea0-b981-5432c7220dac",
        "colab": {
          "base_uri": "https://localhost:8080/",
          "height": 269
        }
      },
      "source": [
        "colors = ['#ef8a62' if v == 0 else '#f7f7f7' if v == 1 else '#67a9cf' for v in Y_under]\n",
        "plt.scatter(X_under[:, 0], X_under[:, 1], c=colors, linewidth=0.5, edgecolor='black')\n",
        "sns.despine()\n"
      ],
      "execution_count": 0,
      "outputs": [
        {
          "output_type": "display_data",
          "data": {
            "image/png": "[encoded data removed]",
            "text/plain": [
              "<Figure size 432x288 with 1 Axes>"
            ]
          },
          "metadata": {
            "tags": []
          }
        }
      ]
    },
    {
      "cell_type": "markdown",
      "metadata": {
        "colab_type": "text",
        "id": "hV7cFhyx9dpS"
      },
      "source": [
        "*Random* *Oversampling* of Majority Class"
      ]
    },
    {
      "cell_type": "code",
      "metadata": {
        "id": "WNRcHrKjWpXw",
        "colab_type": "code",
        "colab": {}
      },
      "source": [
        "\n",
        "from imblearn.over_sampling import RandomOverSampler\n",
        "\n",
        "rus = RandomOverSampler(random_state = 42)\n",
        "\n",
        "X_over, Y_over = rus.fit_sample(X,Y)"
      ],
      "execution_count": 0,
      "outputs": []
    },
    {
      "cell_type": "code",
      "metadata": {
        "id": "zcqwxG7BW9g9",
        "colab_type": "code",
        "outputId": "f34e0f20-bd33-4c2e-fbea-998ba8b97c6d",
        "colab": {
          "base_uri": "https://localhost:8080/",
          "height": 34
        }
      },
      "source": [
        "X_over.shape , Y_over.shape"
      ],
      "execution_count": 0,
      "outputs": [
        {
          "output_type": "execute_result",
          "data": {
            "text/plain": [
              "((568630, 30), (568630,))"
            ]
          },
          "metadata": {
            "tags": []
          },
          "execution_count": 11
        }
      ]
    },
    {
      "cell_type": "code",
      "metadata": {
        "id": "mvd0h8RVXF37",
        "colab_type": "code",
        "outputId": "8afb06d3-eaf4-4c3c-c4a0-0bb987445ec8",
        "colab": {
          "base_uri": "https://localhost:8080/",
          "height": 269
        }
      },
      "source": [
        "colors = ['#ef8a62' if v == 0 else '#f7f7f7' if v == 1 else '#67a9cf' for v in Y_over]\n",
        "plt.scatter(X_over[:, 0], X_over[:, 1], c=colors, linewidth=0.5, edgecolor='black')\n",
        "sns.despine()"
      ],
      "execution_count": 0,
      "outputs": [
        {
          "output_type": "display_data",
          "data": {
            "image/png": "[encoded data removed]",
            "text/plain": [
              "<Figure size 432x288 with 1 Axes>"
            ]
          },
          "metadata": {
            "tags": []
          }
        }
      ]
    },
    {
      "cell_type": "markdown",
      "metadata": {
        "id": "BJGAZOyP9qSS",
        "colab_type": "text"
      },
      "source": [
        "Fiting Logistic Regression and Xgboost Classifier on Undersampled and Oversampled data.\n",
        "X_under , Y_under : X and Y train data undersampled\n",
        "X_over , Y_over : X and Y train data oversampled\n"
      ]
    },
    {
      "cell_type": "code",
      "metadata": {
        "id": "X-O5O8FiXNfn",
        "colab_type": "code",
        "colab": {}
      },
      "source": [
        "\n",
        "\n",
        "from sklearn.linear_model import LogisticRegression\n",
        "\n",
        "print(LogisticRegression())\n",
        "params = {\n",
        "    'C': [0.01,0.01,0.1,0.5,1],\n",
        "    'penalty':['l1','l2']\n",
        "}\n",
        "\n",
        "grid = GridSearchCV(estimator=LogisticRegression(), param_grid= params,\n",
        "                    n_jobs = -1 , verbose = 1 , cv = 3 , scoring = 'f1' )\n",
        "\n",
        "grid.fit(X_under,Y_under)\n",
        "print(grid.best_params_)\n"
      ],
      "execution_count": 0,
      "outputs": []
    },
    {
      "cell_type": "code",
      "metadata": {
        "id": "U3nj4uOyX9D2",
        "colab_type": "code",
        "outputId": "9a0c7235-c695-4533-ac91-db06aa8220c4",
        "colab": {
          "base_uri": "https://localhost:8080/",
          "height": 159
        }
      },
      "source": [
        "from sklearn.linear_model import LogisticRegression\n",
        "clf_lr = LogisticRegression(C = 0.1 , penalty = 'l1')\n",
        "clf_lr.fit(X_under , Y_under)"
      ],
      "execution_count": 0,
      "outputs": [
        {
          "output_type": "stream",
          "text": [
            "/usr/local/lib/python3.6/dist-packages/sklearn/linear_model/logistic.py:432: FutureWarning: Default solver will be changed to 'lbfgs' in 0.22. Specify a solver to silence this warning.\n",
            "  FutureWarning)\n"
          ],
          "name": "stderr"
        },
        {
          "output_type": "execute_result",
          "data": {
            "text/plain": [
              "LogisticRegression(C=0.1, class_weight=None, dual=False, fit_intercept=True,\n",
              "                   intercept_scaling=1, l1_ratio=None, max_iter=100,\n",
              "                   multi_class='warn', n_jobs=None, penalty='l1',\n",
              "                   random_state=None, solver='warn', tol=0.0001, verbose=0,\n",
              "                   warm_start=False)"
            ]
          },
          "metadata": {
            "tags": []
          },
          "execution_count": 13
        }
      ]
    },
    {
      "cell_type": "code",
      "metadata": {
        "id": "_KvOXOuRaG3d",
        "colab_type": "code",
        "outputId": "01831ce0-1978-4374-9950-925c8b5f03ce",
        "colab": {
          "base_uri": "https://localhost:8080/",
          "height": 208
        }
      },
      "source": [
        "from sklearn.metrics import classification_report , confusion_matrix\n",
        "print(confusion_matrix(Y_train,clf_lr.predict(X_train)))\n",
        "print(classification_report(Y_train,clf_lr.predict(X_train)))"
      ],
      "execution_count": 0,
      "outputs": [
        {
          "output_type": "stream",
          "text": [
            "[[222342   5109]\n",
            " [    39    355]]\n",
            "              precision    recall  f1-score   support\n",
            "\n",
            "           0       1.00      0.98      0.99    227451\n",
            "           1       0.06      0.90      0.12       394\n",
            "\n",
            "    accuracy                           0.98    227845\n",
            "   macro avg       0.53      0.94      0.55    227845\n",
            "weighted avg       1.00      0.98      0.99    227845\n",
            "\n"
          ],
          "name": "stdout"
        }
      ]
    },
    {
      "cell_type": "code",
      "metadata": {
        "id": "Ci6LPYy-Zuxq",
        "colab_type": "code",
        "outputId": "be09b3ea-2c04-4d1b-b3d1-af81b3c394dd",
        "colab": {
          "base_uri": "https://localhost:8080/",
          "height": 208
        }
      },
      "source": [
        "from sklearn.metrics import classification_report\n",
        "print(confusion_matrix(Y_test,clf_lr.predict(X_test)))\n",
        "print(classification_report(Y_test,clf_lr.predict(X_test)))"
      ],
      "execution_count": 0,
      "outputs": [
        {
          "output_type": "stream",
          "text": [
            "[[55590  1274]\n",
            " [    8    90]]\n",
            "              precision    recall  f1-score   support\n",
            "\n",
            "           0       1.00      0.98      0.99     56864\n",
            "           1       0.07      0.92      0.12        98\n",
            "\n",
            "    accuracy                           0.98     56962\n",
            "   macro avg       0.53      0.95      0.56     56962\n",
            "weighted avg       1.00      0.98      0.99     56962\n",
            "\n"
          ],
          "name": "stdout"
        }
      ]
    },
    {
      "cell_type": "code",
      "metadata": {
        "id": "--TzWRMqaBHl",
        "colab_type": "code",
        "outputId": "d8d447f5-2ff0-4ea8-e1a8-ee6e9a67f357",
        "colab": {
          "base_uri": "https://localhost:8080/",
          "height": 263
        }
      },
      "source": [
        "\n",
        "from sklearn.model_selection import GridSearchCV\n",
        "from sklearn.linear_model import LogisticRegression\n",
        "\n",
        "\n",
        "params = {\n",
        "    'C': [0.01,0.01,0.1,0.5,1],\n",
        "    'penalty':['l1','l2']\n",
        "}\n",
        "\n",
        "grid = GridSearchCV(estimator=LogisticRegression(), param_grid= params,\n",
        "                    n_jobs = -1 , verbose = 1 , cv = 3 , scoring = 'f1' )\n",
        "\n",
        "grid.fit(X_over,Y_over)\n",
        "print(grid.best_params_)"
      ],
      "execution_count": 0,
      "outputs": [
        {
          "output_type": "stream",
          "text": [
            "LogisticRegression(C=1.0, class_weight=None, dual=False, fit_intercept=True,\n",
            "                   intercept_scaling=1, l1_ratio=None, max_iter=100,\n",
            "                   multi_class='warn', n_jobs=None, penalty='l2',\n",
            "                   random_state=None, solver='warn', tol=0.0001, verbose=0,\n",
            "                   warm_start=False)\n",
            "Fitting 3 folds for each of 10 candidates, totalling 30 fits\n"
          ],
          "name": "stdout"
        },
        {
          "output_type": "stream",
          "text": [
            "[Parallel(n_jobs=-1)]: Using backend LokyBackend with 2 concurrent workers.\n",
            "/usr/local/lib/python3.6/dist-packages/joblib/externals/loky/process_executor.py:706: UserWarning: A worker stopped while some jobs were given to the executor. This can be caused by a too short worker timeout or by a memory leak.\n",
            "  \"timeout or by a memory leak.\", UserWarning\n",
            "[Parallel(n_jobs=-1)]: Done  30 out of  30 | elapsed:  2.9min finished\n",
            "/usr/local/lib/python3.6/dist-packages/sklearn/linear_model/logistic.py:432: FutureWarning: Default solver will be changed to 'lbfgs' in 0.22. Specify a solver to silence this warning.\n",
            "  FutureWarning)\n"
          ],
          "name": "stderr"
        },
        {
          "output_type": "stream",
          "text": [
            "{'C': 0.01, 'penalty': 'l2'}\n"
          ],
          "name": "stdout"
        }
      ]
    },
    {
      "cell_type": "code",
      "metadata": {
        "id": "BP-rzTTyabIR",
        "colab_type": "code",
        "outputId": "824ae557-f0de-432e-af76-b0cfe3cf7836",
        "colab": {
          "base_uri": "https://localhost:8080/",
          "height": 489
        }
      },
      "source": [
        "clf_lr = LogisticRegression(C = 0.1 , penalty = 'l2')\n",
        "clf_lr.fit(X_over , Y_over)\n",
        "\n",
        "print(\"Train Classification Report\")\n",
        "from sklearn.metrics import classification_report\n",
        "print(confusion_matrix(Y_train,clf_lr.predict(X_train)))\n",
        "print(classification_report(Y_train,clf_lr.predict(X_train)))   ### original train dataset\n",
        "\n",
        "print(\"Test Classification Report \")\n",
        "print(confusion_matrix(Y_test,clf_lr.predict(X_test)))\n",
        "print(classification_report(Y_test,clf_lr.predict(X_test)))     ### test dataset reserved \n",
        "\n"
      ],
      "execution_count": 0,
      "outputs": [
        {
          "output_type": "stream",
          "text": [
            "/usr/local/lib/python3.6/dist-packages/sklearn/linear_model/logistic.py:432: FutureWarning: Default solver will be changed to 'lbfgs' in 0.22. Specify a solver to silence this warning.\n",
            "  FutureWarning)\n"
          ],
          "name": "stderr"
        },
        {
          "output_type": "stream",
          "text": [
            "Train Classification Report\n",
            "[[222426   5025]\n",
            " [    33    361]]\n",
            "              precision    recall  f1-score   support\n",
            "\n",
            "           0       1.00      0.98      0.99    227451\n",
            "           1       0.07      0.92      0.12       394\n",
            "\n",
            "    accuracy                           0.98    227845\n",
            "   macro avg       0.53      0.95      0.56    227845\n",
            "weighted avg       1.00      0.98      0.99    227845\n",
            "\n",
            "Test Classification Report \n",
            "[[55625  1239]\n",
            " [    7    91]]\n",
            "              precision    recall  f1-score   support\n",
            "\n",
            "           0       1.00      0.98      0.99     56864\n",
            "           1       0.07      0.93      0.13        98\n",
            "\n",
            "    accuracy                           0.98     56962\n",
            "   macro avg       0.53      0.95      0.56     56962\n",
            "weighted avg       1.00      0.98      0.99     56962\n",
            "\n"
          ],
          "name": "stdout"
        }
      ]
    },
    {
      "cell_type": "code",
      "metadata": {
        "id": "XCmbUOG6f-mx",
        "colab_type": "code",
        "outputId": "30e790e1-41c7-4e7f-af16-537ce514759c",
        "colab": {
          "base_uri": "https://localhost:8080/",
          "height": 121
        }
      },
      "source": [
        "\n",
        "\n",
        "\n",
        "params = {\n",
        "    'n_estimators': [10,20,50,100,200], \n",
        "    'gamma' : [0.01,0.1,0.5,1]  ,\n",
        "    'max_depth' : [3,5,7,9]\n",
        "    #'min_child_weight': , \n",
        "    #'scale_pos_weight' : \n",
        "}\n",
        "\n",
        "grid = GridSearchCV(estimator=xgb.XGBClassifier(), param_grid= params,\n",
        "                    n_jobs = -1 , verbose = 1 , cv = 3 , scoring = 'f1' )\n",
        "\n",
        "grid.fit(X_under,Y_under)\n",
        "print(grid.best_params_)\n"
      ],
      "execution_count": 0,
      "outputs": [
        {
          "output_type": "stream",
          "text": [
            "Fitting 3 folds for each of 80 candidates, totalling 240 fits\n"
          ],
          "name": "stdout"
        },
        {
          "output_type": "stream",
          "text": [
            "[Parallel(n_jobs=-1)]: Using backend LokyBackend with 2 concurrent workers.\n",
            "[Parallel(n_jobs=-1)]: Done  46 tasks      | elapsed:    7.2s\n",
            "[Parallel(n_jobs=-1)]: Done 196 tasks      | elapsed:   24.0s\n"
          ],
          "name": "stderr"
        },
        {
          "output_type": "stream",
          "text": [
            "{'gamma': 0.01, 'max_depth': 5, 'n_estimators': 10}\n"
          ],
          "name": "stdout"
        },
        {
          "output_type": "stream",
          "text": [
            "[Parallel(n_jobs=-1)]: Done 240 out of 240 | elapsed:   30.1s finished\n"
          ],
          "name": "stderr"
        }
      ]
    },
    {
      "cell_type": "code",
      "metadata": {
        "id": "obg_mHiwVCJg",
        "colab_type": "code",
        "outputId": "56e58896-300d-4d8e-925f-794cb2ff3743",
        "colab": {
          "base_uri": "https://localhost:8080/",
          "height": 434
        }
      },
      "source": [
        "\n",
        "clf_xg = xgb.XGBClassifier(max_depth = 5, n_estimators = 10 , gamma = 0.01 )\n",
        "\n",
        "clf_xg.fit(X_under , Y_under)\n",
        "\n",
        "print(\"Train Classification Report\")\n",
        "from sklearn.metrics import classification_report\n",
        "print(confusion_matrix(Y_train,clf_xg.predict(X_train.values)))\n",
        "print(classification_report(Y_train,clf_xg.predict(X_train.values)))   ### original train dataset\n",
        "\n",
        "print(\"Test Classification Report \")\n",
        "print(confusion_matrix(Y_test,clf_xg.predict(X_test.values)))\n",
        "print(classification_report(Y_test,clf_xg.predict(X_test.values)))     ### test dataset reserved \n"
      ],
      "execution_count": 0,
      "outputs": [
        {
          "output_type": "stream",
          "text": [
            "Train Classification Report\n",
            "[[217442  10009]\n",
            " [    17    377]]\n",
            "              precision    recall  f1-score   support\n",
            "\n",
            "           0       1.00      0.96      0.98    227451\n",
            "           1       0.04      0.96      0.07       394\n",
            "\n",
            "    accuracy                           0.96    227845\n",
            "   macro avg       0.52      0.96      0.52    227845\n",
            "weighted avg       1.00      0.96      0.98    227845\n",
            "\n",
            "Test Classification Report \n",
            "[[54389  2475]\n",
            " [    5    93]]\n",
            "              precision    recall  f1-score   support\n",
            "\n",
            "           0       1.00      0.96      0.98     56864\n",
            "           1       0.04      0.95      0.07        98\n",
            "\n",
            "    accuracy                           0.96     56962\n",
            "   macro avg       0.52      0.95      0.52     56962\n",
            "weighted avg       1.00      0.96      0.98     56962\n",
            "\n"
          ],
          "name": "stdout"
        }
      ]
    },
    {
      "cell_type": "markdown",
      "metadata": {
        "id": "kyCBrZn8-gdp",
        "colab_type": "text"
      },
      "source": [
        "SMOTE and ADASYN on train dataset"
      ]
    },
    {
      "cell_type": "code",
      "metadata": {
        "id": "lDkmmvDZYlNj",
        "colab_type": "code",
        "colab": {}
      },
      "source": [
        "\n",
        "from imblearn.over_sampling import SMOTE\n",
        "sm = SMOTE(random_state = 0)\n",
        "X_smote , Y_smote = sm.fit_sample(X_train,Y_train)\n",
        "\n"
      ],
      "execution_count": 0,
      "outputs": []
    },
    {
      "cell_type": "code",
      "metadata": {
        "id": "rL6bkpxXZwft",
        "colab_type": "code",
        "outputId": "79e10fcb-7e9b-454b-b630-6741dccce44f",
        "colab": {
          "base_uri": "https://localhost:8080/",
          "height": 34
        }
      },
      "source": [
        "X_smote.shape , Y_smote.shape"
      ],
      "execution_count": 0,
      "outputs": [
        {
          "output_type": "execute_result",
          "data": {
            "text/plain": [
              "((454902, 30), (454902,))"
            ]
          },
          "metadata": {
            "tags": []
          },
          "execution_count": 31
        }
      ]
    },
    {
      "cell_type": "code",
      "metadata": {
        "id": "ToK_DkQuaUHs",
        "colab_type": "code",
        "colab": {}
      },
      "source": [
        "### Logistic Regression \n",
        "params = {\n",
        "    'C': [0.01,0.01,0.1,0.5,1],\n",
        "    'penalty':['l1','l2']\n",
        "}\n",
        "\n",
        "grid = GridSearchCV(estimator=LogisticRegression(), param_grid= params,\n",
        "                    n_jobs = -1 , verbose = 1 , cv = 3 , scoring = 'f1' )\n",
        "\n",
        "grid.fit(X_smote,Y_smote)\n",
        "print(grid.best_params_)"
      ],
      "execution_count": 0,
      "outputs": []
    },
    {
      "cell_type": "code",
      "metadata": {
        "id": "b5-T7n9vanD2",
        "colab_type": "code",
        "outputId": "3ec5f782-5493-426d-d556-c1a1ffd1872c",
        "colab": {
          "base_uri": "https://localhost:8080/",
          "height": 489
        }
      },
      "source": [
        "clf_lr = LogisticRegression(C = 1 , penalty = 'l1')\n",
        "clf_lr.fit(X_smote , Y_smote)\n",
        "\n",
        "print(\"Train Classification Report\")\n",
        "from sklearn.metrics import classification_report\n",
        "print(confusion_matrix(Y_train,clf_lr.predict(X_train)))\n",
        "print(classification_report(Y_train,clf_lr.predict(X_train)))   ### original train dataset\n",
        "\n",
        "print(\"Test Classification Report \")\n",
        "print(confusion_matrix(Y_test,clf_lr.predict(X_test)))\n",
        "print(classification_report(Y_test,clf_lr.predict(X_test)))     ### test dataset reserved \n",
        "\n"
      ],
      "execution_count": 0,
      "outputs": [
        {
          "output_type": "stream",
          "text": [
            "/usr/local/lib/python3.6/dist-packages/sklearn/linear_model/logistic.py:432: FutureWarning: Default solver will be changed to 'lbfgs' in 0.22. Specify a solver to silence this warning.\n",
            "  FutureWarning)\n"
          ],
          "name": "stderr"
        },
        {
          "output_type": "stream",
          "text": [
            "Train Classification Report\n",
            "[[221865   5586]\n",
            " [    31    363]]\n",
            "              precision    recall  f1-score   support\n",
            "\n",
            "           0       1.00      0.98      0.99    227451\n",
            "           1       0.06      0.92      0.11       394\n",
            "\n",
            "    accuracy                           0.98    227845\n",
            "   macro avg       0.53      0.95      0.55    227845\n",
            "weighted avg       1.00      0.98      0.99    227845\n",
            "\n",
            "Test Classification Report \n",
            "[[55441  1423]\n",
            " [    8    90]]\n",
            "              precision    recall  f1-score   support\n",
            "\n",
            "           0       1.00      0.97      0.99     56864\n",
            "           1       0.06      0.92      0.11        98\n",
            "\n",
            "    accuracy                           0.97     56962\n",
            "   macro avg       0.53      0.95      0.55     56962\n",
            "weighted avg       1.00      0.97      0.99     56962\n",
            "\n"
          ],
          "name": "stdout"
        }
      ]
    },
    {
      "cell_type": "code",
      "metadata": {
        "id": "qxZltlNebZ15",
        "colab_type": "code",
        "colab": {}
      },
      "source": [
        "from imblearn.over_sampling import ADASYN\n",
        "adasyn = ADASYN(random_state = 0)  ###  ratio and techniques take default value\n",
        "X_adasyn , Y_adasyn = adasyn.fit_sample(X_train,Y_train)\n"
      ],
      "execution_count": 0,
      "outputs": []
    },
    {
      "cell_type": "code",
      "metadata": {
        "id": "PPdUVo1scYv-",
        "colab_type": "code",
        "outputId": "ed8ba7a2-5905-4719-99a1-bf5c2dd4d944",
        "colab": {
          "base_uri": "https://localhost:8080/",
          "height": 176
        }
      },
      "source": [
        "### fitting a logistic regression after grid search\n",
        "params = {\n",
        "    'C': [0.01,0.01,0.1,0.5,1],\n",
        "    'penalty':['l1','l2']\n",
        "}\n",
        "\n",
        "grid = GridSearchCV(estimator=LogisticRegression(), param_grid= params,\n",
        "                    n_jobs = -1 , verbose = 1 , cv = 3 , scoring = 'f1' )\n",
        "\n",
        "grid.fit(X_adasyn,Y_adasyn)\n",
        "print(grid.best_params_)"
      ],
      "execution_count": 0,
      "outputs": [
        {
          "output_type": "stream",
          "text": [
            "Fitting 3 folds for each of 10 candidates, totalling 30 fits\n"
          ],
          "name": "stdout"
        },
        {
          "output_type": "stream",
          "text": [
            "[Parallel(n_jobs=-1)]: Using backend LokyBackend with 2 concurrent workers.\n",
            "/usr/local/lib/python3.6/dist-packages/joblib/externals/loky/process_executor.py:706: UserWarning: A worker stopped while some jobs were given to the executor. This can be caused by a too short worker timeout or by a memory leak.\n",
            "  \"timeout or by a memory leak.\", UserWarning\n",
            "[Parallel(n_jobs=-1)]: Done  30 out of  30 | elapsed:  4.3min finished\n",
            "/usr/local/lib/python3.6/dist-packages/sklearn/linear_model/logistic.py:432: FutureWarning: Default solver will be changed to 'lbfgs' in 0.22. Specify a solver to silence this warning.\n",
            "  FutureWarning)\n"
          ],
          "name": "stderr"
        },
        {
          "output_type": "stream",
          "text": [
            "{'C': 1, 'penalty': 'l1'}\n"
          ],
          "name": "stdout"
        }
      ]
    },
    {
      "cell_type": "code",
      "metadata": {
        "id": "sTWkdSxVcpCB",
        "colab_type": "code",
        "outputId": "1e491050-39bd-4897-dcda-2b1707437608",
        "colab": {
          "base_uri": "https://localhost:8080/",
          "height": 489
        }
      },
      "source": [
        "clf_lr = LogisticRegression(C = 1 , penalty = 'l1')\n",
        "clf_lr.fit(X_adasyn , Y_adasyn)\n",
        "\n",
        "print(\"Train Classification Report\")\n",
        "from sklearn.metrics import classification_report\n",
        "print(confusion_matrix(Y_train,clf_lr.predict(X_train)))\n",
        "print(classification_report(Y_train,clf_lr.predict(X_train)))   ### original train dataset\n",
        "\n",
        "print(\"Test Classification Report \")\n",
        "print(confusion_matrix(Y_test,clf_lr.predict(X_test)))\n",
        "print(classification_report(Y_test,clf_lr.predict(X_test)))     ### test dataset reserved "
      ],
      "execution_count": 0,
      "outputs": [
        {
          "output_type": "stream",
          "text": [
            "/usr/local/lib/python3.6/dist-packages/sklearn/linear_model/logistic.py:432: FutureWarning: Default solver will be changed to 'lbfgs' in 0.22. Specify a solver to silence this warning.\n",
            "  FutureWarning)\n"
          ],
          "name": "stderr"
        },
        {
          "output_type": "stream",
          "text": [
            "Train Classification Report\n",
            "[[207347  20104]\n",
            " [    16    378]]\n",
            "              precision    recall  f1-score   support\n",
            "\n",
            "           0       1.00      0.91      0.95    227451\n",
            "           1       0.02      0.96      0.04       394\n",
            "\n",
            "    accuracy                           0.91    227845\n",
            "   macro avg       0.51      0.94      0.49    227845\n",
            "weighted avg       1.00      0.91      0.95    227845\n",
            "\n",
            "Test Classification Report \n",
            "[[51733  5131]\n",
            " [    6    92]]\n",
            "              precision    recall  f1-score   support\n",
            "\n",
            "           0       1.00      0.91      0.95     56864\n",
            "           1       0.02      0.94      0.03        98\n",
            "\n",
            "    accuracy                           0.91     56962\n",
            "   macro avg       0.51      0.92      0.49     56962\n",
            "weighted avg       1.00      0.91      0.95     56962\n",
            "\n"
          ],
          "name": "stdout"
        }
      ]
    },
    {
      "cell_type": "code",
      "metadata": {
        "id": "yL2s-HHZNpJG",
        "colab_type": "code",
        "colab": {}
      },
      "source": [
        "\n",
        "\n",
        "params = {\n",
        "    'n_estimators': [10,20,50,100,200], \n",
        "    'gamma' : [0.01,0.1,0.5,1]  ,\n",
        "    'max_depth' : [3,5,7,9]\n",
        "    #'min_child_weight': , \n",
        "    #'scale_pos_weight' : \n",
        "}\n",
        "\n",
        "grid = GridSearchCV(estimator=xgb.XGBClassifier(), param_grid= params,\n",
        "                    n_jobs = -1 , verbose = 1 , cv = 3 , scoring = 'f1' )\n",
        "\n",
        "grid.fit(X_adasyn,Y_adasyn)\n",
        "print(grid.best_params_)"
      ],
      "execution_count": 0,
      "outputs": []
    },
    {
      "cell_type": "code",
      "metadata": {
        "id": "72yv2xoOdWOE",
        "colab_type": "code",
        "colab": {
          "base_uri": "https://localhost:8080/",
          "height": 434
        },
        "outputId": "121fbceb-a831-43c1-c6f5-30ac860fb343"
      },
      "source": [
        "\n",
        "clf_xg = xgb.XGBClassifier(max_depth = 5, n_estimators = 100 , gamma = 0 )\n",
        "\n",
        "clf_xg.fit(X_adasyn, Y_adasyn)\n",
        "\n",
        "print(\"Train Classification Report\")\n",
        "from sklearn.metrics import classification_report\n",
        "print(confusion_matrix(Y_train,clf_xg.predict(X_train.values)))\n",
        "print(classification_report(Y_train,clf_xg.predict(X_train.values)))   ### original train dataset\n",
        "\n",
        "print(\"Test Classification Report \")\n",
        "print(confusion_matrix(Y_test,clf_xg.predict(X_test.values)))\n",
        "print(classification_report(Y_test,clf_xg.predict(X_test.values)))     ### test dataset reserved "
      ],
      "execution_count": 19,
      "outputs": [
        {
          "output_type": "stream",
          "text": [
            "Train Classification Report\n",
            "[[225630   1821]\n",
            " [     0    394]]\n",
            "              precision    recall  f1-score   support\n",
            "\n",
            "           0       1.00      0.99      1.00    227451\n",
            "           1       0.18      1.00      0.30       394\n",
            "\n",
            "    accuracy                           0.99    227845\n",
            "   macro avg       0.59      1.00      0.65    227845\n",
            "weighted avg       1.00      0.99      0.99    227845\n",
            "\n",
            "Test Classification Report \n",
            "[[56390   474]\n",
            " [    9    89]]\n",
            "              precision    recall  f1-score   support\n",
            "\n",
            "           0       1.00      0.99      1.00     56864\n",
            "           1       0.16      0.91      0.27        98\n",
            "\n",
            "    accuracy                           0.99     56962\n",
            "   macro avg       0.58      0.95      0.63     56962\n",
            "weighted avg       1.00      0.99      0.99     56962\n",
            "\n"
          ],
          "name": "stdout"
        }
      ]
    },
    {
      "cell_type": "markdown",
      "metadata": {
        "id": "W-GyDJyJ-2px",
        "colab_type": "text"
      },
      "source": [
        "1.using class_weights parameter : 'balanced' \n",
        "\n",
        "2.OR specify a float  - no_of_positive_class/no_of_negative_class \n",
        "\n",
        "3.if the number is too big take sqrt and use that value (to avoid too large value associated with one record of one class)."
      ]
    },
    {
      "cell_type": "code",
      "metadata": {
        "id": "bOLlw8d-T_KD",
        "colab_type": "code",
        "colab": {
          "base_uri": "https://localhost:8080/",
          "height": 489
        },
        "outputId": "24f77be5-264a-4924-fa4e-669088bff8bf"
      },
      "source": [
        "\n",
        "clf_lr = LogisticRegression(class_weight='balanced',penalty = 'l2',C = 0.01)\n",
        "clf_lr.fit(X_train,Y_train)\n",
        "\n",
        "\n",
        "print(\"Train Classification Report\")\n",
        "from sklearn.metrics import classification_report\n",
        "print(confusion_matrix(Y_train,clf_lr.predict(X_train.values)))\n",
        "print(classification_report(Y_train,clf_lr.predict(X_train.values)))   ### original train dataset\n",
        "\n",
        "print(\"Test Classification Report \")\n",
        "print(confusion_matrix(Y_test,clf_lr.predict(X_test.values)))\n",
        "print(classification_report(Y_test,clf_lr.predict(X_test.values)))     ### test dataset reserved "
      ],
      "execution_count": 20,
      "outputs": [
        {
          "output_type": "stream",
          "text": [
            "/usr/local/lib/python3.6/dist-packages/sklearn/linear_model/logistic.py:432: FutureWarning: Default solver will be changed to 'lbfgs' in 0.22. Specify a solver to silence this warning.\n",
            "  FutureWarning)\n"
          ],
          "name": "stderr"
        },
        {
          "output_type": "stream",
          "text": [
            "Train Classification Report\n",
            "[[222331   5120]\n",
            " [    33    361]]\n",
            "              precision    recall  f1-score   support\n",
            "\n",
            "           0       1.00      0.98      0.99    227451\n",
            "           1       0.07      0.92      0.12       394\n",
            "\n",
            "    accuracy                           0.98    227845\n",
            "   macro avg       0.53      0.95      0.56    227845\n",
            "weighted avg       1.00      0.98      0.99    227845\n",
            "\n",
            "Test Classification Report \n",
            "[[55577  1287]\n",
            " [    8    90]]\n",
            "              precision    recall  f1-score   support\n",
            "\n",
            "           0       1.00      0.98      0.99     56864\n",
            "           1       0.07      0.92      0.12        98\n",
            "\n",
            "    accuracy                           0.98     56962\n",
            "   macro avg       0.53      0.95      0.56     56962\n",
            "weighted avg       1.00      0.98      0.99     56962\n",
            "\n"
          ],
          "name": "stdout"
        }
      ]
    },
    {
      "cell_type": "code",
      "metadata": {
        "id": "U2VdbX4t7k68",
        "colab_type": "code",
        "colab": {
          "base_uri": "https://localhost:8080/",
          "height": 434
        },
        "outputId": "6106ba75-30be-4d7d-8a30-97d8880ecb32"
      },
      "source": [
        "clf_xg = xgb.XGBClassifier(max_depth = 5, n_estimators = 10 , gamma = 0 , class_weight = 'balanced')\n",
        "\n",
        "clf_xg.fit(X_train, Y_train)\n",
        "\n",
        "print(\"Train Classification Report\")\n",
        "from sklearn.metrics import classification_report\n",
        "print(confusion_matrix(Y_train,clf_xg.predict(X_train)))\n",
        "print(classification_report(Y_train,clf_xg.predict(X_train)))   ### original train dataset\n",
        "\n",
        "print(\"Test Classification Report \")\n",
        "print(confusion_matrix(Y_test,clf_xg.predict(X_test)))\n",
        "print(classification_report(Y_test,clf_xg.predict(X_test)))     ### test dataset reserved "
      ],
      "execution_count": 22,
      "outputs": [
        {
          "output_type": "stream",
          "text": [
            "Train Classification Report\n",
            "[[227434     17]\n",
            " [    69    325]]\n",
            "              precision    recall  f1-score   support\n",
            "\n",
            "           0       1.00      1.00      1.00    227451\n",
            "           1       0.95      0.82      0.88       394\n",
            "\n",
            "    accuracy                           1.00    227845\n",
            "   macro avg       0.97      0.91      0.94    227845\n",
            "weighted avg       1.00      1.00      1.00    227845\n",
            "\n",
            "Test Classification Report \n",
            "[[56859     5]\n",
            " [   19    79]]\n",
            "              precision    recall  f1-score   support\n",
            "\n",
            "           0       1.00      1.00      1.00     56864\n",
            "           1       0.94      0.81      0.87        98\n",
            "\n",
            "    accuracy                           1.00     56962\n",
            "   macro avg       0.97      0.90      0.93     56962\n",
            "weighted avg       1.00      1.00      1.00     56962\n",
            "\n"
          ],
          "name": "stdout"
        }
      ]
    },
    {
      "cell_type": "code",
      "metadata": {
        "id": "w146eNMm7zf6",
        "colab_type": "code",
        "colab": {}
      },
      "source": [
        ""
      ],
      "execution_count": 0,
      "outputs": []
    }
  ]
}